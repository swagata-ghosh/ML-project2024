{
 "cells": [
  {
   "cell_type": "code",
   "execution_count": 1,
   "id": "eb8c4cb6-f08d-4677-907b-61eb9475fb67",
   "metadata": {},
   "outputs": [],
   "source": [
    "from joblib import dump ,load\n",
    "import numpy as np\n",
    "model=load('RealEstatePricePredictor.joblib')"
   ]
  },
  {
   "cell_type": "code",
   "execution_count": 2,
   "id": "507df9e0-f573-4e56-9437-f182ba0dd670",
   "metadata": {},
   "outputs": [
    {
     "data": {
      "text/plain": [
       "array([22.362])"
      ]
     },
     "execution_count": 2,
     "metadata": {},
     "output_type": "execute_result"
    }
   ],
   "source": [
    "features = np.array([-0.43942006,  3.12628155, -1.12165014, -0.27288841, -1.42262747,\n",
    "       -0.23979304, -1.31238772,  2.61111401, -1.0016859 , -0.5778192 ,\n",
    "       -0.97491834,  0.41164221, -0.86091034])\n",
    "model.predict([features])"
   ]
  },
  {
   "cell_type": "code",
   "execution_count": 3,
   "id": "9ede8b20-36c6-4d64-b156-0bfa5f5f3ab0",
   "metadata": {},
   "outputs": [
    {
     "data": {
      "text/plain": [
       "array([21.702])"
      ]
     },
     "execution_count": 3,
     "metadata": {},
     "output_type": "execute_result"
    }
   ],
   "source": [
    "features = np.array([-0.673942006,  56.12628155, -1.12165014, -0.27288841, -1.42262747,\n",
    "       -5.23979304, -1.31238772,  2.61111401, -69.0016859 , -0.5778192 ,\n",
    "       -0.97491834,  0.41164221, -0.86091034])\n",
    "model.predict([features])"
   ]
  },
  {
   "cell_type": "code",
   "execution_count": null,
   "id": "bb92958d-dddd-415c-9dbc-5b8297583a96",
   "metadata": {},
   "outputs": [],
   "source": []
  }
 ],
 "metadata": {
  "kernelspec": {
   "display_name": "Python 3 (ipykernel)",
   "language": "python",
   "name": "python3"
  },
  "language_info": {
   "codemirror_mode": {
    "name": "ipython",
    "version": 3
   },
   "file_extension": ".py",
   "mimetype": "text/x-python",
   "name": "python",
   "nbconvert_exporter": "python",
   "pygments_lexer": "ipython3",
   "version": "3.12.5"
  }
 },
 "nbformat": 4,
 "nbformat_minor": 5
}
